{
  "nbformat": 4,
  "nbformat_minor": 0,
  "metadata": {
    "colab": {
      "name": "CA1_train_test_Scored.ipynb",
      "version": "0.3.2",
      "provenance": [],
      "collapsed_sections": []
    },
    "kernelspec": {
      "name": "python3",
      "display_name": "Python 3"
    }
  },
  "cells": [
    {
      "metadata": {
        "id": "agOrvhuqaupR",
        "colab_type": "text"
      },
      "cell_type": "markdown",
      "source": [
        "### Install Google **dependencies**"
      ]
    },
    {
      "metadata": {
        "id": "TOasbsImZ5aV",
        "colab_type": "code",
        "outputId": "8368b8c4-20cc-4872-e2c8-644b16575413",
        "colab": {
          "base_uri": "https://localhost:8080/",
          "height": 187
        }
      },
      "cell_type": "code",
      "source": [
        "# !pip install PyDrive"
      ],
      "execution_count": 0,
      "outputs": [
        {
          "output_type": "stream",
          "text": [
            "Requirement already satisfied: PyDrive in /usr/local/lib/python3.6/dist-packages (1.3.1)\n",
            "Requirement already satisfied: PyYAML>=3.0 in /usr/local/lib/python3.6/dist-packages (from PyDrive) (3.13)\n",
            "Requirement already satisfied: google-api-python-client>=1.2 in /usr/local/lib/python3.6/dist-packages (from PyDrive) (1.6.7)\n",
            "Requirement already satisfied: oauth2client>=4.0.0 in /usr/local/lib/python3.6/dist-packages (from PyDrive) (4.1.3)\n",
            "Requirement already satisfied: uritemplate<4dev,>=3.0.0 in /usr/local/lib/python3.6/dist-packages (from google-api-python-client>=1.2->PyDrive) (3.0.0)\n",
            "Requirement already satisfied: six<2dev,>=1.6.1 in /usr/local/lib/python3.6/dist-packages (from google-api-python-client>=1.2->PyDrive) (1.11.0)\n",
            "Requirement already satisfied: httplib2<1dev,>=0.9.2 in /usr/local/lib/python3.6/dist-packages (from google-api-python-client>=1.2->PyDrive) (0.11.3)\n",
            "Requirement already satisfied: pyasn1-modules>=0.0.5 in /usr/local/lib/python3.6/dist-packages (from oauth2client>=4.0.0->PyDrive) (0.2.2)\n",
            "Requirement already satisfied: rsa>=3.1.4 in /usr/local/lib/python3.6/dist-packages (from oauth2client>=4.0.0->PyDrive) (4.0)\n",
            "Requirement already satisfied: pyasn1>=0.1.7 in /usr/local/lib/python3.6/dist-packages (from oauth2client>=4.0.0->PyDrive) (0.4.4)\n"
          ],
          "name": "stdout"
        }
      ]
    },
    {
      "metadata": {
        "id": "rK39ZRDQayk4",
        "colab_type": "code",
        "colab": {}
      },
      "cell_type": "code",
      "source": [
        "# import os\n",
        "# from pydrive.auth import GoogleAuth\n",
        "# from pydrive.drive import GoogleDrive\n",
        "# from google.colab import auth\n",
        "# from oauth2client.client import GoogleCredentials\n",
        "\n",
        "# auth.authenticate_user()\n",
        "# gauth = GoogleAuth()\n",
        "# gauth.credentials = GoogleCredentials.get_application_default()\n",
        "# drive = GoogleDrive(gauth)"
      ],
      "execution_count": 0,
      "outputs": []
    },
    {
      "metadata": {
        "id": "35ZwwHh8bBun",
        "colab_type": "code",
        "colab": {}
      },
      "cell_type": "code",
      "source": [
        "# download = drive.CreateFile({'id': '1cyJt8ZU05J-Bang4TNOX6KLZIS6VmlR8'})\n",
        "# download.GetContentFile('Corpus.zip')\n",
        "# !unzip Corpus.zip"
      ],
      "execution_count": 0,
      "outputs": []
    },
    {
      "metadata": {
        "id": "3zPffIchbTvC",
        "colab_type": "text"
      },
      "cell_type": "markdown",
      "source": [
        "### Install Python dependencies"
      ]
    },
    {
      "metadata": {
        "id": "OnMQw2wVbn2g",
        "colab_type": "code",
        "outputId": "8c0caad1-01cc-4bb1-9938-356b0ea2a3fc",
        "colab": {
          "base_uri": "https://localhost:8080/",
          "height": 34
        }
      },
      "cell_type": "code",
      "source": [
        "import os\n",
        "import pandas as pd\n",
        "from os import getcwd\n",
        "\n",
        "from IPython.display import Image\n",
        "from IPython.core.display import HTML \n",
        "%matplotlib inline    \n",
        "\n",
        "data_dir = os.path.join(getcwd(), 'Corpus')\n",
        "data_dir"
      ],
      "execution_count": 0,
      "outputs": [
        {
          "output_type": "execute_result",
          "data": {
            "text/plain": [
              "'/content/Corpus'"
            ]
          },
          "metadata": {
            "tags": []
          },
          "execution_count": 8
        }
      ]
    },
    {
      "metadata": {
        "id": "Y0IRAOxybFOo",
        "colab_type": "code",
        "outputId": "e3e8bdee-e153-4a26-d77c-d7072f831d3a",
        "colab": {
          "base_uri": "https://localhost:8080/",
          "height": 547
        }
      },
      "cell_type": "code",
      "source": [
        "sgyelp_dir = os.path.join(data_dir, 'YelpReview_SG.csv')\n",
        "SG_DF = pd.read_csv(sgyelp_dir, encoding='iso-8859-1')\n",
        "\n",
        "print(\"Total size: {}\".format(len(SG_DF)))\n",
        "\n",
        "SG_DF.sample(n=5)"
      ],
      "execution_count": 0,
      "outputs": [
        {
          "output_type": "stream",
          "text": [
            "Total size: 1243\n"
          ],
          "name": "stdout"
        },
        {
          "output_type": "execute_result",
          "data": {
            "text/html": [
              "<div>\n",
              "<style scoped>\n",
              "    .dataframe tbody tr th:only-of-type {\n",
              "        vertical-align: middle;\n",
              "    }\n",
              "\n",
              "    .dataframe tbody tr th {\n",
              "        vertical-align: top;\n",
              "    }\n",
              "\n",
              "    .dataframe thead th {\n",
              "        text-align: right;\n",
              "    }\n",
              "</style>\n",
              "<table border=\"1\" class=\"dataframe\">\n",
              "  <thead>\n",
              "    <tr style=\"text-align: right;\">\n",
              "      <th></th>\n",
              "      <th>Unnamed: 0</th>\n",
              "      <th>url</th>\n",
              "      <th>restaurant_name</th>\n",
              "      <th>biz_id</th>\n",
              "      <th>restaurant_address</th>\n",
              "      <th>country</th>\n",
              "      <th>restaurant_area</th>\n",
              "      <th>longitude</th>\n",
              "      <th>latitude</th>\n",
              "      <th>listed_category</th>\n",
              "      <th>overall_review</th>\n",
              "      <th>username</th>\n",
              "      <th>user_location</th>\n",
              "      <th>friend_count</th>\n",
              "      <th>review_count</th>\n",
              "      <th>user_overall_rating</th>\n",
              "      <th>review_date</th>\n",
              "      <th>user_review</th>\n",
              "    </tr>\n",
              "  </thead>\n",
              "  <tbody>\n",
              "    <tr>\n",
              "      <th>733</th>\n",
              "      <td>733</td>\n",
              "      <td>https://www.yelp.com/biz/Les-Amis-Singapore</td>\n",
              "      <td>Les Amis</td>\n",
              "      <td>gzIseUFpWsuSOxQR7ZAJ0g</td>\n",
              "      <td>1 Scotts Rd, Singapore 228208</td>\n",
              "      <td>Singapore</td>\n",
              "      <td>Tanglin</td>\n",
              "      <td>103.831861</td>\n",
              "      <td>1.306197</td>\n",
              "      <td>French</td>\n",
              "      <td>14 reviews</td>\n",
              "      <td>Jocelyn L.</td>\n",
              "      <td>San Francisco, CA</td>\n",
              "      <td>510</td>\n",
              "      <td>1711</td>\n",
              "      <td>4</td>\n",
              "      <td>23/3/2013</td>\n",
              "      <td>I had a really good meal here; service was imp...</td>\n",
              "    </tr>\n",
              "    <tr>\n",
              "      <th>1082</th>\n",
              "      <td>1082</td>\n",
              "      <td>https://www.yelp.com/biz/Tiong-Bahru-Hainanese...</td>\n",
              "      <td>Tiong Bahru Hainanese Boneless Chicken Rice</td>\n",
              "      <td>0koP1Wzp8ceWlaTwFDtIow</td>\n",
              "      <td>21 New Bridge Road, Singapore 059388</td>\n",
              "      <td>Singapore</td>\n",
              "      <td>Clarke Quay</td>\n",
              "      <td>103.847550</td>\n",
              "      <td>1.288805</td>\n",
              "      <td>Chinese, Singaporean</td>\n",
              "      <td>5 reviews</td>\n",
              "      <td>Valerie E.</td>\n",
              "      <td>Singapore, Singapore</td>\n",
              "      <td>0</td>\n",
              "      <td>1</td>\n",
              "      <td>4</td>\n",
              "      <td>19/1/2015</td>\n",
              "      <td>I ordered char siew rice. It was probably the ...</td>\n",
              "    </tr>\n",
              "    <tr>\n",
              "      <th>948</th>\n",
              "      <td>948</td>\n",
              "      <td>https://www.yelp.com/biz/Ru-Ji-Kitchen-Singapore</td>\n",
              "      <td>Ru Ji Kitchen</td>\n",
              "      <td>HQ3T1yC5nJW8ST-CGj6JVQ</td>\n",
              "      <td>Blk 44 Holland Drive, #02-28, Singapore 270044</td>\n",
              "      <td>Singapore</td>\n",
              "      <td>Ghim Moh</td>\n",
              "      <td>103.792731</td>\n",
              "      <td>1.308133</td>\n",
              "      <td>Food</td>\n",
              "      <td>3 reviews</td>\n",
              "      <td>Jessica G.</td>\n",
              "      <td>Singapore, Singapore</td>\n",
              "      <td>32</td>\n",
              "      <td>317</td>\n",
              "      <td>5</td>\n",
              "      <td>1/7/2014</td>\n",
              "      <td>The Blk 44 Holland Drive market has reopened! ...</td>\n",
              "    </tr>\n",
              "    <tr>\n",
              "      <th>1200</th>\n",
              "      <td>1200</td>\n",
              "      <td>https://www.yelp.com/biz/Yhingthai-Palace-Sing...</td>\n",
              "      <td>Yhingthai Palace</td>\n",
              "      <td>m37JoiIGlCRRfcnpYvHHkA</td>\n",
              "      <td>36 Purvis St, Singapore 188613</td>\n",
              "      <td>Singapore</td>\n",
              "      <td>Bugis, Bras Brasah, City Hall</td>\n",
              "      <td>103.854944</td>\n",
              "      <td>1.296601</td>\n",
              "      <td>Thai</td>\n",
              "      <td>16 reviews</td>\n",
              "      <td>Sharon L.</td>\n",
              "      <td>Yio Chu Kang, Singapore, Singapore</td>\n",
              "      <td>1</td>\n",
              "      <td>42</td>\n",
              "      <td>3</td>\n",
              "      <td>25/9/2015</td>\n",
              "      <td>Food here has become more expensive than it us...</td>\n",
              "    </tr>\n",
              "    <tr>\n",
              "      <th>7</th>\n",
              "      <td>7</td>\n",
              "      <td>https://www.yelp.com/biz/A-Noodle-Story-Singapore</td>\n",
              "      <td>A Noodle Story</td>\n",
              "      <td>KsHdXhRdu9UzjZXO7g9BHg</td>\n",
              "      <td>7 Maxwell Rd, Singapore 069111</td>\n",
              "      <td>Singapore</td>\n",
              "      <td>Tanjong Pagar</td>\n",
              "      <td>103.846893</td>\n",
              "      <td>1.279114</td>\n",
              "      <td>Food Stands, Ramen, Singaporean</td>\n",
              "      <td>14 reviews</td>\n",
              "      <td>Sylvia K.</td>\n",
              "      <td>Seattle, WA</td>\n",
              "      <td>269</td>\n",
              "      <td>1014</td>\n",
              "      <td>5</td>\n",
              "      <td>5/9/2015</td>\n",
              "      <td>Singaporean-style ramen? Yes, please! Came to ...</td>\n",
              "    </tr>\n",
              "  </tbody>\n",
              "</table>\n",
              "</div>"
            ],
            "text/plain": [
              "      Unnamed: 0                                                url  \\\n",
              "733          733        https://www.yelp.com/biz/Les-Amis-Singapore   \n",
              "1082        1082  https://www.yelp.com/biz/Tiong-Bahru-Hainanese...   \n",
              "948          948   https://www.yelp.com/biz/Ru-Ji-Kitchen-Singapore   \n",
              "1200        1200  https://www.yelp.com/biz/Yhingthai-Palace-Sing...   \n",
              "7              7  https://www.yelp.com/biz/A-Noodle-Story-Singapore   \n",
              "\n",
              "                                  restaurant_name                  biz_id  \\\n",
              "733                                      Les Amis  gzIseUFpWsuSOxQR7ZAJ0g   \n",
              "1082  Tiong Bahru Hainanese Boneless Chicken Rice  0koP1Wzp8ceWlaTwFDtIow   \n",
              "948                                 Ru Ji Kitchen  HQ3T1yC5nJW8ST-CGj6JVQ   \n",
              "1200                             Yhingthai Palace  m37JoiIGlCRRfcnpYvHHkA   \n",
              "7                                  A Noodle Story  KsHdXhRdu9UzjZXO7g9BHg   \n",
              "\n",
              "                                  restaurant_address     country  \\\n",
              "733                    1 Scotts Rd, Singapore 228208   Singapore   \n",
              "1082            21 New Bridge Road, Singapore 059388   Singapore   \n",
              "948   Blk 44 Holland Drive, #02-28, Singapore 270044   Singapore   \n",
              "1200                  36 Purvis St, Singapore 188613   Singapore   \n",
              "7                     7 Maxwell Rd, Singapore 069111   Singapore   \n",
              "\n",
              "                    restaurant_area   longitude  latitude  \\\n",
              "733                         Tanglin  103.831861  1.306197   \n",
              "1082                    Clarke Quay  103.847550  1.288805   \n",
              "948                        Ghim Moh  103.792731  1.308133   \n",
              "1200  Bugis, Bras Brasah, City Hall  103.854944  1.296601   \n",
              "7                     Tanjong Pagar  103.846893  1.279114   \n",
              "\n",
              "                      listed_category overall_review    username  \\\n",
              "733                            French     14 reviews  Jocelyn L.   \n",
              "1082             Chinese, Singaporean      5 reviews  Valerie E.   \n",
              "948                              Food      3 reviews  Jessica G.   \n",
              "1200                             Thai     16 reviews   Sharon L.   \n",
              "7     Food Stands, Ramen, Singaporean     14 reviews   Sylvia K.   \n",
              "\n",
              "                           user_location  friend_count  review_count  \\\n",
              "733                    San Francisco, CA           510          1711   \n",
              "1082                Singapore, Singapore             0             1   \n",
              "948                 Singapore, Singapore            32           317   \n",
              "1200  Yio Chu Kang, Singapore, Singapore             1            42   \n",
              "7                            Seattle, WA           269          1014   \n",
              "\n",
              "      user_overall_rating review_date  \\\n",
              "733                     4   23/3/2013   \n",
              "1082                    4   19/1/2015   \n",
              "948                     5    1/7/2014   \n",
              "1200                    3   25/9/2015   \n",
              "7                       5    5/9/2015   \n",
              "\n",
              "                                            user_review  \n",
              "733   I had a really good meal here; service was imp...  \n",
              "1082  I ordered char siew rice. It was probably the ...  \n",
              "948   The Blk 44 Holland Drive market has reopened! ...  \n",
              "1200  Food here has become more expensive than it us...  \n",
              "7     Singaporean-style ramen? Yes, please! Came to ...  "
            ]
          },
          "metadata": {
            "tags": []
          },
          "execution_count": 9
        }
      ]
    },
    {
      "metadata": {
        "id": "Q7V3OsaEb9SI",
        "colab_type": "text"
      },
      "cell_type": "markdown",
      "source": [
        "### Converting rating to positive/negative sentiment\n",
        "\n",
        "Negative: 1-3\n",
        "\n",
        "Positive: 4-5 "
      ]
    },
    {
      "metadata": {
        "id": "fRmOlLHEblp4",
        "colab_type": "code",
        "colab": {}
      },
      "cell_type": "code",
      "source": [
        "sentiment = []\n",
        "for idx, doc in SG_DF.iterrows():\n",
        "    if doc['user_overall_rating'] <= 3:\n",
        "        sentiment.append(-1)\n",
        "    else:\n",
        "        sentiment.append(1)\n",
        "\n",
        "SG_DF['sentiment'] = sentiment"
      ],
      "execution_count": 0,
      "outputs": []
    },
    {
      "metadata": {
        "id": "mFcXl_tncPgg",
        "colab_type": "text"
      },
      "cell_type": "markdown",
      "source": [
        "### Exploring dataset\n",
        "To have a better understanding on what we are working on. Some exploration is required.\n",
        "\n",
        "This dataset have more than 2x more positive than negative comments.\n",
        "\n",
        "Top 3 categories with most comments are:\n",
        "\n",
        "('Chinese', 267), ('Asian Fusion', 154), ('Noodles', 148)"
      ]
    },
    {
      "metadata": {
        "id": "IqogJ9fvcLKY",
        "colab_type": "code",
        "outputId": "442081e1-070a-486c-e131-b16288e7fddc",
        "colab": {
          "base_uri": "https://localhost:8080/",
          "height": 265
        }
      },
      "cell_type": "code",
      "source": [
        "# Visualise number of positive and negative reviews\n",
        "neg = [doc for idx, doc in SG_DF.iterrows() if doc['user_overall_rating'] <= 3]\n",
        "pos = [doc for idx, doc in SG_DF.iterrows() if doc['user_overall_rating'] > 3]\n",
        "plt.bar(['Positive', 'Negative'], [len(pos), len(neg)])\n",
        "plt.show()"
      ],
      "execution_count": 0,
      "outputs": [
        {
          "output_type": "display_data",
          "data": {
            "image/png": "[encoded data removed]",
            "text/plain": [
              "<matplotlib.figure.Figure at 0x7ffaa4443ef0>"
            ]
          },
          "metadata": {
            "tags": []
          }
        }
      ]
    },
    {
      "metadata": {
        "id": "IOpqbm4fceNA",
        "colab_type": "code",
        "outputId": "b1bcb164-1664-4082-80fa-0785062924de",
        "colab": {
          "base_uri": "https://localhost:8080/",
          "height": 105
        }
      },
      "cell_type": "code",
      "source": [
        "# Get all unique categories in dataset\n",
        "unique_categories = []\n",
        "for idx, doc in SG_DF.iterrows():\n",
        "    for cat in doc['listed_category'].split(', '):        \n",
        "        unique_categories.append(cat.strip())\n",
        "\n",
        "unique_categories = set(unique_categories)\n",
        "print(\"unique_categories: {}\".format(len(unique_categories)))\n",
        "print(unique_categories)\n",
        "print()\n",
        "\n",
        "# Count the total number comments on each categories.\n",
        "# Note that categories will overlap.\n",
        "rest_category = dict.fromkeys(unique_categories, 0)\n",
        "for idx, doc in SG_DF.iterrows():\n",
        "    for cat in doc['listed_category'].split(','):\n",
        "        cat = cat.strip()\n",
        "        rest_category[cat] += 1\n",
        "\n",
        "rest_category = sorted(rest_category.items(), key=lambda k: k[1], reverse=True)\n",
        "print(rest_category)"
      ],
      "execution_count": 0,
      "outputs": [
        {
          "output_type": "stream",
          "text": [
            "unique_categories: 49\n",
            "{'Japanese', 'Restaurants', 'Modern European', 'Imported Food', 'Italian', 'Thai', 'Gelato', 'Brasseries', 'Cocktail Bars', 'Asian Fusion', 'Nasi Lemak', 'Street Vendors', 'Noodles', 'Lounges', 'Barbeque', 'Bars', 'Spanish', 'Food', 'Tapas/Small Plates', 'Ramen', 'Malaysian', 'French', 'Chinese', 'Soup', 'Food Stands', 'Australian', 'Steakhouses', 'Sushi Bars', 'Pakistani', 'Local Flavor', 'Cafes', 'Bakeries', 'Dim Sum', 'Farmers Market', 'Breakfast & Brunch', 'Mediterranean', 'Singaporean', 'American (Traditional)', 'Vegetarian', 'Indian', 'Cantonese', 'Wine Bars', 'Szechuan', 'Venues & Event Spaces', 'Shanghainese', 'Mexican', 'Ice Cream & Frozen Yogurt', 'Seafood', 'Fondue'}\n",
            "\n",
            "[('Chinese', 267), ('Asian Fusion', 154), ('Noodles', 148), ('Steakhouses', 136), ('Singaporean', 125), ('French', 106), ('Indian', 102), ('Spanish', 79), ('Japanese', 67), ('Australian', 67), ('Food Stands', 56), ('Barbeque', 55), ('Thai', 53), ('Italian', 50), ('American (Traditional)', 48), ('Modern European', 47), ('Cocktail Bars', 46), ('Cantonese', 45), ('Dim Sum', 43), ('Street Vendors', 41), ('Tapas/Small Plates', 41), ('Bars', 40), ('Shanghainese', 31), ('Lounges', 28), ('Fondue', 28), ('Vegetarian', 25), ('Seafood', 25), ('Food', 21), ('Mediterranean', 20), ('Brasseries', 13), ('Ramen', 13), ('Wine Bars', 13), ('Breakfast & Brunch', 12), ('Szechuan', 12), ('Restaurants', 11), ('Gelato', 10), ('Ice Cream & Frozen Yogurt', 10), ('Nasi Lemak', 7), ('Malaysian', 7), ('Pakistani', 7), ('Local Flavor', 7), ('Cafes', 7), ('Venues & Event Spaces', 7), ('Imported Food', 6), ('Sushi Bars', 6), ('Farmers Market', 4), ('Mexican', 3), ('Soup', 2), ('Bakeries', 1)]\n"
          ],
          "name": "stdout"
        }
      ]
    },
    {
      "metadata": {
        "id": "muv1koH-ckPg",
        "colab_type": "code",
        "outputId": "cae8eb9e-befe-49f0-ef6c-d56a3c49ee4a",
        "colab": {
          "base_uri": "https://localhost:8080/",
          "height": 51
        }
      },
      "cell_type": "code",
      "source": [
        "# Total reviews for top 4 categories\n",
        "total_reviews = 0\n",
        "chosen = []\n",
        "\n",
        "for c in rest_category[:4]:\n",
        "    total_reviews += c[1]\n",
        "    chosen.append(c[0])\n",
        "    \n",
        "chosen = set(chosen)\n",
        "print(chosen)\n",
        "print(total_reviews)"
      ],
      "execution_count": 0,
      "outputs": [
        {
          "output_type": "stream",
          "text": [
            "{'Chinese', 'Asian Fusion', 'Steakhouses', 'Noodles'}\n",
            "705\n"
          ],
          "name": "stdout"
        }
      ]
    },
    {
      "metadata": {
        "id": "0fa46qRx3vlz",
        "colab_type": "code",
        "colab": {}
      },
      "cell_type": "code",
      "source": [
        "# Test\n",
        "listed_category = []\n",
        "restaurant_name = []\n",
        "sentiment = []\n",
        "user_review = []\n",
        "\n",
        "# Train\n",
        "train_listed_category = []\n",
        "train_restaurant_name = []\n",
        "train_sentiment = []\n",
        "train_user_review = []\n",
        "\n",
        "for idx, doc in SG_DF.iterrows():\n",
        "    if pd.Series(doc['listed_category'].split(', ')).isin(chosen).any():\n",
        "        listed_category.append(doc['listed_category'])\n",
        "        restaurant_name.append(doc['restaurant_name'])\n",
        "        sentiment.append(doc['sentiment'])\n",
        "        user_review.append(doc['user_review'])\n",
        "    else:\n",
        "        train_listed_category.append(doc['listed_category'])\n",
        "        train_restaurant_name.append(doc['restaurant_name'])\n",
        "        train_sentiment.append(doc['sentiment'])\n",
        "        train_user_review.append(doc['user_review'])"
      ],
      "execution_count": 0,
      "outputs": []
    },
    {
      "metadata": {
        "id": "LnWqCshQ-7D7",
        "colab_type": "code",
        "outputId": "1f93490f-a5ae-48d1-9e03-873875b04d07",
        "colab": {
          "base_uri": "https://localhost:8080/",
          "height": 306
        }
      },
      "cell_type": "code",
      "source": [
        "test = {}\n",
        "test['listed_category'] = listed_category\n",
        "test['restaurant_name'] = restaurant_name\n",
        "test['sentiment'] = sentiment\n",
        "test['user_review'] = user_review\n",
        "df_test = pd.DataFrame.from_dict(test)\n",
        "\n",
        "for idx, doc in df_test.iterrows():\n",
        "    for c in doc['listed_category'].split(', '):\n",
        "        for chosen in ['Noodles', 'Steakhouses', 'Asian Fusion', 'Chinese']:\n",
        "            if c == chosen:\n",
        "                df_test['listed_category'][idx] = c\n",
        "                break\n",
        "\n",
        "print(len(df_test))\n",
        "df_test.head()"
      ],
      "execution_count": 0,
      "outputs": [
        {
          "output_type": "stream",
          "text": [
            "/usr/local/lib/python3.6/dist-packages/ipykernel_launcher.py:12: SettingWithCopyWarning: \n",
            "A value is trying to be set on a copy of a slice from a DataFrame\n",
            "\n",
            "See the caveats in the documentation: http://pandas.pydata.org/pandas-docs/stable/indexing.html#indexing-view-versus-copy\n",
            "  if sys.path[0] == '':\n"
          ],
          "name": "stderr"
        },
        {
          "output_type": "stream",
          "text": [
            "550\n"
          ],
          "name": "stdout"
        },
        {
          "output_type": "execute_result",
          "data": {
            "text/html": [
              "<div>\n",
              "<style scoped>\n",
              "    .dataframe tbody tr th:only-of-type {\n",
              "        vertical-align: middle;\n",
              "    }\n",
              "\n",
              "    .dataframe tbody tr th {\n",
              "        vertical-align: top;\n",
              "    }\n",
              "\n",
              "    .dataframe thead th {\n",
              "        text-align: right;\n",
              "    }\n",
              "</style>\n",
              "<table border=\"1\" class=\"dataframe\">\n",
              "  <thead>\n",
              "    <tr style=\"text-align: right;\">\n",
              "      <th></th>\n",
              "      <th>listed_category</th>\n",
              "      <th>restaurant_name</th>\n",
              "      <th>sentiment</th>\n",
              "      <th>user_review</th>\n",
              "    </tr>\n",
              "  </thead>\n",
              "  <tbody>\n",
              "    <tr>\n",
              "      <th>0</th>\n",
              "      <td>Asian Fusion</td>\n",
              "      <td>85 Bedok North Fried Oyster</td>\n",
              "      <td>1</td>\n",
              "      <td>Once or if we're lucky, twice every year we ge...</td>\n",
              "    </tr>\n",
              "    <tr>\n",
              "      <th>1</th>\n",
              "      <td>Asian Fusion</td>\n",
              "      <td>Akira Back</td>\n",
              "      <td>1</td>\n",
              "      <td>2nd time back and really enjoyed the food. Thi...</td>\n",
              "    </tr>\n",
              "    <tr>\n",
              "      <th>2</th>\n",
              "      <td>Asian Fusion</td>\n",
              "      <td>Akira Back</td>\n",
              "      <td>1</td>\n",
              "      <td>Excellent appetizers, rolls and miso soups. Mu...</td>\n",
              "    </tr>\n",
              "    <tr>\n",
              "      <th>3</th>\n",
              "      <td>Asian Fusion</td>\n",
              "      <td>Akira Back</td>\n",
              "      <td>1</td>\n",
              "      <td>Have been waiting to write my review for this ...</td>\n",
              "    </tr>\n",
              "    <tr>\n",
              "      <th>4</th>\n",
              "      <td>Asian Fusion</td>\n",
              "      <td>Akira Back</td>\n",
              "      <td>1</td>\n",
              "      <td>Amazing sushi and great sake.....and the servi...</td>\n",
              "    </tr>\n",
              "  </tbody>\n",
              "</table>\n",
              "</div>"
            ],
            "text/plain": [
              "  listed_category              restaurant_name  sentiment  \\\n",
              "0    Asian Fusion  85 Bedok North Fried Oyster          1   \n",
              "1    Asian Fusion                   Akira Back          1   \n",
              "2    Asian Fusion                   Akira Back          1   \n",
              "3    Asian Fusion                   Akira Back          1   \n",
              "4    Asian Fusion                   Akira Back          1   \n",
              "\n",
              "                                         user_review  \n",
              "0  Once or if we're lucky, twice every year we ge...  \n",
              "1  2nd time back and really enjoyed the food. Thi...  \n",
              "2  Excellent appetizers, rolls and miso soups. Mu...  \n",
              "3  Have been waiting to write my review for this ...  \n",
              "4  Amazing sushi and great sake.....and the servi...  "
            ]
          },
          "metadata": {
            "tags": []
          },
          "execution_count": 97
        }
      ]
    },
    {
      "metadata": {
        "id": "LUYgPL4q-8_s",
        "colab_type": "code",
        "outputId": "a4a5108a-1bb3-4522-90fe-580019654f3d",
        "colab": {
          "base_uri": "https://localhost:8080/",
          "height": 221
        }
      },
      "cell_type": "code",
      "source": [
        "train = {}\n",
        "train['listed_category'] = train_listed_category\n",
        "train['restaurant_name'] = train_restaurant_name\n",
        "train['sentiment'] = train_sentiment\n",
        "train['user_review'] = train_user_review\n",
        "df_train = pd.DataFrame.from_dict(train)\n",
        "\n",
        "print(len(df_train))\n",
        "df_train.head()"
      ],
      "execution_count": 0,
      "outputs": [
        {
          "output_type": "stream",
          "text": [
            "693\n"
          ],
          "name": "stdout"
        },
        {
          "output_type": "execute_result",
          "data": {
            "text/html": [
              "<div>\n",
              "<style scoped>\n",
              "    .dataframe tbody tr th:only-of-type {\n",
              "        vertical-align: middle;\n",
              "    }\n",
              "\n",
              "    .dataframe tbody tr th {\n",
              "        vertical-align: top;\n",
              "    }\n",
              "\n",
              "    .dataframe thead th {\n",
              "        text-align: right;\n",
              "    }\n",
              "</style>\n",
              "<table border=\"1\" class=\"dataframe\">\n",
              "  <thead>\n",
              "    <tr style=\"text-align: right;\">\n",
              "      <th></th>\n",
              "      <th>listed_category</th>\n",
              "      <th>restaurant_name</th>\n",
              "      <th>sentiment</th>\n",
              "      <th>user_review</th>\n",
              "    </tr>\n",
              "  </thead>\n",
              "  <tbody>\n",
              "    <tr>\n",
              "      <th>0</th>\n",
              "      <td>Food Stands, Ramen, Singaporean</td>\n",
              "      <td>A Noodle Story</td>\n",
              "      <td>1</td>\n",
              "      <td>50 minute wait. We got into the line at 12:22 ...</td>\n",
              "    </tr>\n",
              "    <tr>\n",
              "      <th>1</th>\n",
              "      <td>Food Stands, Ramen, Singaporean</td>\n",
              "      <td>A Noodle Story</td>\n",
              "      <td>1</td>\n",
              "      <td>The noodles definitely achieve the shop's goal...</td>\n",
              "    </tr>\n",
              "    <tr>\n",
              "      <th>2</th>\n",
              "      <td>Food Stands, Ramen, Singaporean</td>\n",
              "      <td>A Noodle Story</td>\n",
              "      <td>1</td>\n",
              "      <td>This Singaporean take on ramen is special. Eac...</td>\n",
              "    </tr>\n",
              "    <tr>\n",
              "      <th>3</th>\n",
              "      <td>Food Stands, Ramen, Singaporean</td>\n",
              "      <td>A Noodle Story</td>\n",
              "      <td>1</td>\n",
              "      <td>I was intrigued when I heard that there's a Si...</td>\n",
              "    </tr>\n",
              "    <tr>\n",
              "      <th>4</th>\n",
              "      <td>Food Stands, Ramen, Singaporean</td>\n",
              "      <td>A Noodle Story</td>\n",
              "      <td>1</td>\n",
              "      <td>Yum yum yum! What a great way to take in the p...</td>\n",
              "    </tr>\n",
              "  </tbody>\n",
              "</table>\n",
              "</div>"
            ],
            "text/plain": [
              "                   listed_category restaurant_name  sentiment  \\\n",
              "0  Food Stands, Ramen, Singaporean  A Noodle Story          1   \n",
              "1  Food Stands, Ramen, Singaporean  A Noodle Story          1   \n",
              "2  Food Stands, Ramen, Singaporean  A Noodle Story          1   \n",
              "3  Food Stands, Ramen, Singaporean  A Noodle Story          1   \n",
              "4  Food Stands, Ramen, Singaporean  A Noodle Story          1   \n",
              "\n",
              "                                         user_review  \n",
              "0  50 minute wait. We got into the line at 12:22 ...  \n",
              "1  The noodles definitely achieve the shop's goal...  \n",
              "2  This Singaporean take on ramen is special. Eac...  \n",
              "3  I was intrigued when I heard that there's a Si...  \n",
              "4  Yum yum yum! What a great way to take in the p...  "
            ]
          },
          "metadata": {
            "tags": []
          },
          "execution_count": 103
        }
      ]
    },
    {
      "metadata": {
        "id": "CfdHya5QDZ8z",
        "colab_type": "code",
        "colab": {}
      },
      "cell_type": "code",
      "source": [
        "df_test.to_csv(data_dir+'test_scored.csv', encoding='utf-8', index=False)\n",
        "df_train.to_csv(data_dir+'train_scored.csv', encoding='utf-8', index=False)"
      ],
      "execution_count": 0,
      "outputs": []
    },
    {
      "metadata": {
        "id": "dPAscfkgHITs",
        "colab_type": "code",
        "colab": {}
      },
      "cell_type": "code",
      "source": [
        "# from google.colab import files\n",
        "\n",
        "# files.download('test_yelp.csv')\n",
        "# files.download('train_yelp.csv') "
      ],
      "execution_count": 0,
      "outputs": []
    },
    {
      "metadata": {
        "id": "AYcXr129HW_c",
        "colab_type": "code",
        "colab": {}
      },
      "cell_type": "code",
      "source": [
        ""
      ],
      "execution_count": 0,
      "outputs": []
    }
  ]
}